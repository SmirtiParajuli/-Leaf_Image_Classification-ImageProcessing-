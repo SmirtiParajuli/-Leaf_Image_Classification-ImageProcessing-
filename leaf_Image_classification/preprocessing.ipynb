{
 "cells": [
  {
   "cell_type": "code",
   "execution_count": 1,
   "id": "28c68c7f-5e09-4def-90a4-e208ae3f5885",
   "metadata": {
    "scrolled": true
   },
   "outputs": [],
   "source": [
    "#preprocessing.ipynb\n",
    "import cv2\n",
    "import os\n",
    "import matplotlib.pyplot as plt\n",
    "\n",
    "\n",
    "def preprocess_image(image_path):\n",
    "    print(f\"Reading image from: {image_path}\")  # Debugging statement\n",
    "    image = cv2.imread(image_path)\n",
    "    if image is None:\n",
    "        raise FileNotFoundError(f\"Image not found at path: {image_path}\")\n",
    "\n",
    "    # Convert the image to YCrCb color space\n",
    "    ycrcb_image = cv2.cvtColor(image, cv2.COLOR_BGR2YCrCb)\n",
    "    \n",
    "    # Split the YCrCb image to different channels\n",
    "    y, cr, cb = cv2.split(ycrcb_image)\n",
    "    \n",
    "    # Apply histogram equalization to the Y channel for enhancement\n",
    "    y_enhanced = cv2.equalizeHist(y)\n",
    "    \n",
    "    # Merge the enhanced Y channel back with Cr and Cb channels\n",
    "    ycrcb_enhanced = cv2.merge([y_enhanced, cr, cb])\n",
    "    \n",
    "    # Convert the enhanced YCrCb image back to BGR color space\n",
    "    enhanced_image = cv2.cvtColor(ycrcb_enhanced, cv2.COLOR_YCrCb2BGR)\n",
    "    \n",
    "    # Convert the enhanced image to grayscale\n",
    "    gray_image = cv2.cvtColor(enhanced_image, cv2.COLOR_BGR2GRAY)\n",
    "    \n",
    "    # Apply binary thresholding for segmentation\n",
    "    _, binary_image = cv2.threshold(gray_image, 66, 255, cv2.THRESH_BINARY)\n",
    "    \n",
    "    # Apply the mask to the original image to segment the leaf\n",
    "    masked_image = cv2.bitwise_and(image, image, mask=binary_image)\n",
    "    \n",
    "    # Perform Sobel edge detection\n",
    "    sobelx = cv2.Sobel(binary_image, cv2.CV_64F, 1, 0, ksize=5)\n",
    "    sobely = cv2.Sobel(binary_image, cv2.CV_64F, 0, 1, ksize=5)\n",
    "    sobel_combined = cv2.magnitude(sobelx, sobely)\n",
    "    \n",
    "    # Perform Canny edge detection\n",
    "    canny_edges = cv2.Canny(binary_image, 100, 200)\n",
    "    \n",
    "    return masked_image, enhanced_image, gray_image, binary_image, sobel_combined, canny_edges\n",
    "\n",
    "\n"
   ]
  },
  {
   "cell_type": "code",
   "execution_count": null,
   "id": "5f483280-9d6f-4381-a6b0-a0c4dfc2531c",
   "metadata": {},
   "outputs": [],
   "source": []
  }
 ],
 "metadata": {
  "kernelspec": {
   "display_name": "Python 3 (ipykernel)",
   "language": "python",
   "name": "python3"
  },
  "language_info": {
   "codemirror_mode": {
    "name": "ipython",
    "version": 3
   },
   "file_extension": ".py",
   "mimetype": "text/x-python",
   "name": "python",
   "nbconvert_exporter": "python",
   "pygments_lexer": "ipython3",
   "version": "3.11.7"
  }
 },
 "nbformat": 4,
 "nbformat_minor": 5
}
